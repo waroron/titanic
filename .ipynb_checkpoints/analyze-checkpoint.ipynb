{
 "cells": [
  {
   "cell_type": "code",
   "execution_count": 17,
   "metadata": {
    "pycharm": {
     "is_executing": false,
     "name": "#%% data import\n"
    }
   },
   "outputs": [],
   "source": [
    "import pandas as pd\n",
    "import numpy as np\n",
    "import torch\n",
    "import torch.nn as nn\n",
    "import torch.nn.functional as F\n",
    "import torch.optim as optim\n"
   ]
  },
  {
   "cell_type": "code",
   "execution_count": 3,
   "metadata": {
    "pycharm": {
     "is_executing": false,
     "name": "#%% import data\n"
    }
   },
   "outputs": [],
   "source": [
    "def load_data(enable_labels=None):\n",
    "    train_data = pd.read_csv('titanic/train.csv')\n",
    "    test_data = pd.read_csv('titanic/test.csv')\n",
    "    \n",
    "    train_x = train_data[enable_labels]\n",
    "    train_y = train_data['Survived']\n",
    "    \n",
    "    test_x = test_data[enable_labels]\n",
    "    test_y = test_data['Survived']\n",
    "    \n",
    "    return (train_x, train_y), (test_x, test_y)\n"
   ]
  },
  {
   "cell_type": "code",
   "execution_count": 21,
   "metadata": {
    "pycharm": {
     "is_executing": false,
     "name": "#%%\n"
    }
   },
   "outputs": [
    {
     "ename": "TypeError",
     "evalue": "load_data() missing 1 required positional argument: 'enable_labels'",
     "output_type": "error",
     "traceback": [
      "\u001b[1;31m---------------------------------------------------------------------------\u001b[0m",
      "\u001b[1;31mTypeError\u001b[0m                                 Traceback (most recent call last)",
      "\u001b[1;32m<ipython-input-21-21afb45e5e58>\u001b[0m in \u001b[0;36m<module>\u001b[1;34m\u001b[0m\n\u001b[1;32m----> 1\u001b[1;33m \u001b[0mtrain_data\u001b[0m\u001b[1;33m,\u001b[0m \u001b[0mtest_data\u001b[0m \u001b[1;33m=\u001b[0m \u001b[0mload_data\u001b[0m\u001b[1;33m(\u001b[0m\u001b[1;33m)\u001b[0m\u001b[1;33m\u001b[0m\u001b[0m\n\u001b[0m\u001b[0;32m      2\u001b[0m \u001b[1;31m# train_data.head()\u001b[0m\u001b[1;33m\u001b[0m\u001b[1;33m\u001b[0m\u001b[0m\n\u001b[0;32m      3\u001b[0m \u001b[1;31m# test_data.head()\u001b[0m\u001b[1;33m\u001b[0m\u001b[1;33m\u001b[0m\u001b[0m\n\u001b[0;32m      4\u001b[0m \u001b[1;33m\u001b[0m\u001b[0m\n\u001b[0;32m      5\u001b[0m \u001b[0mtrain_desc\u001b[0m \u001b[1;33m=\u001b[0m \u001b[0mtrain_data\u001b[0m\u001b[1;33m.\u001b[0m\u001b[0mdescribe\u001b[0m\u001b[1;33m(\u001b[0m\u001b[1;33m)\u001b[0m\u001b[1;33m\u001b[0m\u001b[0m\n",
      "\u001b[1;31mTypeError\u001b[0m: load_data() missing 1 required positional argument: 'enable_labels'"
     ]
    }
   ],
   "source": [
    "train_data, test_data = load_data()\n",
    "# train_data.head()\n",
    "# test_data.head()\n",
    "\n",
    "train_desc = train_data.describe()\n",
    "# test_desc = test_data.describe()\n"
   ]
  },
  {
   "cell_type": "code",
   "execution_count": 9,
   "metadata": {
    "pycharm": {
     "is_executing": false,
     "name": "#%%\n"
    }
   },
   "outputs": [],
   "source": [
    "def null_table(df): \n",
    "        null_val = df.isnull().sum()\n",
    "        percent = 100 * df.isnull().sum()/len(df)\n",
    "        kesson_table = pd.concat([null_val, percent], axis=1)\n",
    "        kesson_table_ren_columns = kesson_table.rename(\n",
    "        columns = {0 : '欠損数', 1 : '%'})\n",
    "        return kesson_table_ren_columns\n",
    "\n",
    "null_train = null_table(train_data)\n",
    "null_test = null_table(test_data)\n"
   ]
  },
  {
   "cell_type": "code",
   "execution_count": null,
   "metadata": {
    "pycharm": {
     "name": "#%%\n"
    }
   },
   "outputs": [],
   "source": [
    "class LNN(nn.modules):\n",
    "    def __init__(self, input_dim, output_dim, depth):\n",
    "        self.fc_input = nn.Linear(input_dim, 256)\n",
    "        self.fc_array = nn.ModuleList([nn.Linear(256, 256) for _ in range(depth - 2)])\n",
    "        self.fc_output = nn.Linear(256, output_dim)\n",
    "\n",
    "    def normal_fwd(self, x, training=False):\n",
    "        y = F.relu(self.fc_input(x))\n",
    "        for layer in self.fc_array:\n",
    "            y = F.relu(layer(y))\n",
    "        y = self.fc_output(y)\n",
    "        return y\n",
    "\n",
    "model = LNN(128, 1, 16)\n",
    "optimizer = optim.Adam(model.parameters())\n",
    "criterion = nn.MSELoss()\n",
    "\n",
    "for i in range(100):\n",
    "  # 順伝播\n",
    "  out = model(input)\n",
    "  # ロスの計算\n",
    "  loss = criterion(out, target)\n",
    "  # 勾配の初期化\n",
    "  optimizer.zero_grad()\n",
    "  # 勾配の計算\n",
    "  loss.backward()\n",
    "  # パラメータの更新\n",
    "  optimizer.step()"
   ]
  },
  {
   "cell_type": "code",
   "execution_count": null,
   "metadata": {
    "pycharm": {
     "name": "#%%\n"
    }
   },
   "outputs": [],
   "source": [
    "\n"
   ]
  }
 ],
 "metadata": {
  "kernelspec": {
   "display_name": "Python 3",
   "language": "python",
   "name": "python3"
  },
  "language_info": {
   "codemirror_mode": {
    "name": "ipython",
    "version": 3
   },
   "file_extension": ".py",
   "mimetype": "text/x-python",
   "name": "python",
   "nbconvert_exporter": "python",
   "pygments_lexer": "ipython3",
   "version": "3.6.4"
  },
  "pycharm": {
   "stem_cell": {
    "cell_type": "raw",
    "metadata": {
     "collapsed": false
    },
    "source": []
   }
  }
 },
 "nbformat": 4,
 "nbformat_minor": 1
}
